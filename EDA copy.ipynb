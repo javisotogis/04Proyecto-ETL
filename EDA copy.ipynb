{
 "cells": [
  {
   "cell_type": "code",
   "execution_count": 2,
   "metadata": {},
   "outputs": [],
   "source": [
    "import pandas as pd\n",
    "import numpy as np\n",
    "\n",
    "import seaborn as sns\n",
    "import matplotlib.pyplot as plt\n",
    "\n"
   ]
  },
  {
   "cell_type": "code",
   "execution_count": 3,
   "metadata": {},
   "outputs": [],
   "source": [
    "# Configuración de estilo de gráficos\n",
    "plt.style.use('ggplot')\n",
    "sns.set_theme(style=\"whitegrid\")\n",
    "\n",
    "# Cargar el archivo parquet\n",
    "file_path = 'reservas_hoteles.parquet'\n",
    "df = pd.read_parquet(file_path)\n",
    "\n",
    "\n"
   ]
  },
  {
   "cell_type": "code",
   "execution_count": 4,
   "metadata": {},
   "outputs": [
    {
     "name": "stdout",
     "output_type": "stream",
     "text": [
      "id_reserva                 object\n",
      "id_cliente                 object\n",
      "nombre                     object\n",
      "apellido                   object\n",
      "mail                       object\n",
      "competencia                  bool\n",
      "fecha_reserva      datetime64[ns]\n",
      "inicio_estancia    datetime64[ns]\n",
      "final_estancia     datetime64[ns]\n",
      "id_hotel                    int64\n",
      "precio_noche              float64\n",
      "nombre_hotel               object\n",
      "estrellas                 float64\n",
      "ciudad                     object\n",
      "dtype: object\n"
     ]
    }
   ],
   "source": [
    "# Modificar el tipo de dato de las fechas\n",
    "\n",
    "df['fecha_reserva'] = pd.to_datetime(df['fecha_reserva'], errors='coerce')\n",
    "df['inicio_estancia'] = pd.to_datetime(df['inicio_estancia'], errors='coerce')\n",
    "df['final_estancia'] = pd.to_datetime(df['final_estancia'], errors='coerce')\n",
    "\n",
    "# Comprobar cambios\n",
    "print(df.dtypes)"
   ]
  },
  {
   "cell_type": "code",
   "execution_count": 9,
   "metadata": {},
   "outputs": [],
   "source": [
    "# Filtrar el dataframe donde competencia es False\n",
    "competencia_false_df = df[df['competencia'] == False]\n",
    "\n"
   ]
  },
  {
   "cell_type": "code",
   "execution_count": 11,
   "metadata": {},
   "outputs": [
    {
     "name": "stdout",
     "output_type": "stream",
     "text": [
      "Index(['id_reserva', 'id_cliente', 'nombre', 'apellido', 'mail', 'competencia',\n",
      "       'fecha_reserva', 'inicio_estancia', 'final_estancia', 'id_hotel',\n",
      "       'precio_noche', 'nombre_hotel', 'estrellas', 'ciudad'],\n",
      "      dtype='object')\n"
     ]
    }
   ],
   "source": [
    "print(competencia_false_df.columns)"
   ]
  },
  {
   "cell_type": "code",
   "execution_count": 12,
   "metadata": {},
   "outputs": [
    {
     "data": {
      "text/plain": [
       "{14: 'Palacio del Sol',\n",
       " 38: 'Gran Hotel Madrid',\n",
       " 35: 'Hotel Las Estrellas',\n",
       " 36: 'Hotel Las Estrellas',\n",
       " 43: 'Hotel Mirador Real',\n",
       " 6: 'Hotel Jardines del Rey',\n",
       " 3: 'Hotel Encanto Real',\n",
       " 29: 'Hotel Jardines del Rey',\n",
       " 47: 'Hotel Costa Azul',\n",
       " 27: 'Hotel Luz de Madrid',\n",
       " 13: 'Hotel Encanto Real',\n",
       " 28: 'Hotel Puerta del Cielo',\n",
       " 40: 'Hotel Vista Alegre',\n",
       " 2: 'Hotel Camino del Sol',\n",
       " 48: 'Palacio del Sol',\n",
       " 15: 'Hotel Palacio Imperial',\n",
       " 33: 'Hotel Vista Alegre',\n",
       " 49: 'Hotel Jardines del Rey',\n",
       " 19: 'Hotel Maravilla Real'}"
      ]
     },
     "execution_count": 12,
     "metadata": {},
     "output_type": "execute_result"
    }
   ],
   "source": [
    "# Crear un diccionario basado en id_hotel y nombre_hotel no nulos\n",
    "hotel_name_mapping = competencia_false_df[competencia_false_df['nombre_hotel'].notnull()].set_index('id_hotel')['nombre_hotel'].to_dict()\n",
    "hotel_name_mapping\n"
   ]
  },
  {
   "cell_type": "code",
   "execution_count": 14,
   "metadata": {},
   "outputs": [
    {
     "data": {
      "text/html": [
       "<div>\n",
       "<style scoped>\n",
       "    .dataframe tbody tr th:only-of-type {\n",
       "        vertical-align: middle;\n",
       "    }\n",
       "\n",
       "    .dataframe tbody tr th {\n",
       "        vertical-align: top;\n",
       "    }\n",
       "\n",
       "    .dataframe thead th {\n",
       "        text-align: right;\n",
       "    }\n",
       "</style>\n",
       "<table border=\"1\" class=\"dataframe\">\n",
       "  <thead>\n",
       "    <tr style=\"text-align: right;\">\n",
       "      <th></th>\n",
       "      <th>id_reserva</th>\n",
       "      <th>id_cliente</th>\n",
       "      <th>nombre</th>\n",
       "      <th>apellido</th>\n",
       "      <th>mail</th>\n",
       "      <th>competencia</th>\n",
       "      <th>fecha_reserva</th>\n",
       "      <th>inicio_estancia</th>\n",
       "      <th>final_estancia</th>\n",
       "      <th>id_hotel</th>\n",
       "      <th>precio_noche</th>\n",
       "      <th>nombre_hotel</th>\n",
       "      <th>estrellas</th>\n",
       "      <th>ciudad</th>\n",
       "    </tr>\n",
       "  </thead>\n",
       "  <tbody>\n",
       "    <tr>\n",
       "      <th>2</th>\n",
       "      <td>40c4cb55-d1f5-407b-832f-4756b8ff77b4</td>\n",
       "      <td>6ec4d7d2-e382-47cc-94f6-c647577d4035</td>\n",
       "      <td>Maite</td>\n",
       "      <td>Calatayud</td>\n",
       "      <td>maite.calatayud@example.com</td>\n",
       "      <td>False</td>\n",
       "      <td>2025-02-09</td>\n",
       "      <td>2025-03-01</td>\n",
       "      <td>2025-03-02</td>\n",
       "      <td>14</td>\n",
       "      <td>119.96</td>\n",
       "      <td>Hotel Monte Verde</td>\n",
       "      <td>1.0</td>\n",
       "      <td>Madrid</td>\n",
       "    </tr>\n",
       "    <tr>\n",
       "      <th>3</th>\n",
       "      <td>f2ce8df5-7844-43e1-8c0f-97ce7a208f21</td>\n",
       "      <td>aed17fe8-eb18-4f69-bf08-df1afdc339c3</td>\n",
       "      <td>Tecla</td>\n",
       "      <td>Bonet</td>\n",
       "      <td>tecla.bonet@example.com</td>\n",
       "      <td>False</td>\n",
       "      <td>2025-02-08</td>\n",
       "      <td>2025-03-01</td>\n",
       "      <td>2025-03-02</td>\n",
       "      <td>38</td>\n",
       "      <td>211.53</td>\n",
       "      <td>Hotel Brisas del Mar</td>\n",
       "      <td>5.0</td>\n",
       "      <td>Madrid</td>\n",
       "    </tr>\n",
       "    <tr>\n",
       "      <th>4</th>\n",
       "      <td>57d4515a-447d-4067-afcb-9bdcf4e4e915</td>\n",
       "      <td>710a2fbb-264f-426a-aa66-f8fffd146a2d</td>\n",
       "      <td>Amílcar</td>\n",
       "      <td>Andrés</td>\n",
       "      <td>amílcar.andrés@example.com</td>\n",
       "      <td>False</td>\n",
       "      <td>2025-02-02</td>\n",
       "      <td>2025-03-01</td>\n",
       "      <td>2025-03-02</td>\n",
       "      <td>35</td>\n",
       "      <td>378.37</td>\n",
       "      <td>Hotel Camino del Sol</td>\n",
       "      <td>1.0</td>\n",
       "      <td>Madrid</td>\n",
       "    </tr>\n",
       "    <tr>\n",
       "      <th>5</th>\n",
       "      <td>ccbd9fe9-5a60-4f6f-bed3-73a7158ecba7</td>\n",
       "      <td>df42ae3d-0b9b-4c06-b22e-939323833ef8</td>\n",
       "      <td>Joan</td>\n",
       "      <td>Vazquez</td>\n",
       "      <td>joan.vazquez@example.com</td>\n",
       "      <td>False</td>\n",
       "      <td>2025-02-08</td>\n",
       "      <td>2025-03-01</td>\n",
       "      <td>2025-03-02</td>\n",
       "      <td>36</td>\n",
       "      <td>85.45</td>\n",
       "      <td>Hotel Puerta del Cielo</td>\n",
       "      <td>5.0</td>\n",
       "      <td>Madrid</td>\n",
       "    </tr>\n",
       "    <tr>\n",
       "      <th>6</th>\n",
       "      <td>99c3dc4f-663c-45f7-849a-ac9313f3746a</td>\n",
       "      <td>a16a9d83-6888-4947-a7ab-ed41203e347c</td>\n",
       "      <td>Chelo</td>\n",
       "      <td>Flor</td>\n",
       "      <td>chelo.flor@example.com</td>\n",
       "      <td>False</td>\n",
       "      <td>2025-02-09</td>\n",
       "      <td>2025-03-01</td>\n",
       "      <td>2025-03-02</td>\n",
       "      <td>43</td>\n",
       "      <td>309.80</td>\n",
       "      <td>Hotel Encanto Real</td>\n",
       "      <td>1.0</td>\n",
       "      <td>Madrid</td>\n",
       "    </tr>\n",
       "    <tr>\n",
       "      <th>...</th>\n",
       "      <td>...</td>\n",
       "      <td>...</td>\n",
       "      <td>...</td>\n",
       "      <td>...</td>\n",
       "      <td>...</td>\n",
       "      <td>...</td>\n",
       "      <td>...</td>\n",
       "      <td>...</td>\n",
       "      <td>...</td>\n",
       "      <td>...</td>\n",
       "      <td>...</td>\n",
       "      <td>...</td>\n",
       "      <td>...</td>\n",
       "      <td>...</td>\n",
       "    </tr>\n",
       "    <tr>\n",
       "      <th>15093</th>\n",
       "      <td>49c9a352-a260-46fb-9edc-a2c2d05fdfb9</td>\n",
       "      <td>cc50c0c1-a589-44b7-8a41-2c731d033f89</td>\n",
       "      <td>Victoriano</td>\n",
       "      <td>Miralles</td>\n",
       "      <td>victoriano.miralles@example.com</td>\n",
       "      <td>False</td>\n",
       "      <td>2025-02-02</td>\n",
       "      <td>2025-03-01</td>\n",
       "      <td>2025-03-02</td>\n",
       "      <td>36</td>\n",
       "      <td>367.65</td>\n",
       "      <td>Hotel Las Estrellas</td>\n",
       "      <td>3.0</td>\n",
       "      <td>Madrid</td>\n",
       "    </tr>\n",
       "    <tr>\n",
       "      <th>15094</th>\n",
       "      <td>f07370e3-feeb-4893-a9ff-4ec4fb518a55</td>\n",
       "      <td>2bf0215f-7f7b-4cfb-9a37-d2022c492410</td>\n",
       "      <td>Anacleto</td>\n",
       "      <td>Toledo</td>\n",
       "      <td>anacleto.toledo@example.com</td>\n",
       "      <td>False</td>\n",
       "      <td>2025-02-07</td>\n",
       "      <td>2025-03-01</td>\n",
       "      <td>2025-03-02</td>\n",
       "      <td>38</td>\n",
       "      <td>144.35</td>\n",
       "      <td>Gran Hotel Madrid</td>\n",
       "      <td>4.0</td>\n",
       "      <td>Madrid</td>\n",
       "    </tr>\n",
       "    <tr>\n",
       "      <th>15095</th>\n",
       "      <td>1d4b9293-1733-45ce-8a8e-79d3ac4694eb</td>\n",
       "      <td>4ba34638-c43e-455f-886d-b3e3dd223a07</td>\n",
       "      <td>Máxima</td>\n",
       "      <td>Mayoral</td>\n",
       "      <td>máxima.mayoral@example.com</td>\n",
       "      <td>False</td>\n",
       "      <td>2025-02-08</td>\n",
       "      <td>2025-03-01</td>\n",
       "      <td>2025-03-02</td>\n",
       "      <td>29</td>\n",
       "      <td>463.32</td>\n",
       "      <td>Hotel Jardines del Rey</td>\n",
       "      <td>2.0</td>\n",
       "      <td>Madrid</td>\n",
       "    </tr>\n",
       "    <tr>\n",
       "      <th>15096</th>\n",
       "      <td>d6823ca7-e236-48b1-bf68-6b88d9b6534a</td>\n",
       "      <td>a017cb9c-160b-4b90-b4a9-4bdb2dce546a</td>\n",
       "      <td>Rafa</td>\n",
       "      <td>Alcaraz</td>\n",
       "      <td>rafa.alcaraz@example.com</td>\n",
       "      <td>False</td>\n",
       "      <td>2025-02-10</td>\n",
       "      <td>2025-03-01</td>\n",
       "      <td>2025-03-02</td>\n",
       "      <td>15</td>\n",
       "      <td>247.63</td>\n",
       "      <td>Hotel Palacio Imperial</td>\n",
       "      <td>1.0</td>\n",
       "      <td>Madrid</td>\n",
       "    </tr>\n",
       "    <tr>\n",
       "      <th>15097</th>\n",
       "      <td>6b26f923-22b2-4de7-b1d5-bce158361dee</td>\n",
       "      <td>5842d91d-6ca2-4174-920b-8a2e1ca852ba</td>\n",
       "      <td>Eugenio</td>\n",
       "      <td>Quintero</td>\n",
       "      <td>eugenio.quintero@example.com</td>\n",
       "      <td>False</td>\n",
       "      <td>2025-02-06</td>\n",
       "      <td>2025-03-01</td>\n",
       "      <td>2025-03-02</td>\n",
       "      <td>28</td>\n",
       "      <td>433.87</td>\n",
       "      <td>Hotel Puerta del Cielo</td>\n",
       "      <td>4.0</td>\n",
       "      <td>Madrid</td>\n",
       "    </tr>\n",
       "  </tbody>\n",
       "</table>\n",
       "<p>9926 rows × 14 columns</p>\n",
       "</div>"
      ],
      "text/plain": [
       "                                 id_reserva  \\\n",
       "2      40c4cb55-d1f5-407b-832f-4756b8ff77b4   \n",
       "3      f2ce8df5-7844-43e1-8c0f-97ce7a208f21   \n",
       "4      57d4515a-447d-4067-afcb-9bdcf4e4e915   \n",
       "5      ccbd9fe9-5a60-4f6f-bed3-73a7158ecba7   \n",
       "6      99c3dc4f-663c-45f7-849a-ac9313f3746a   \n",
       "...                                     ...   \n",
       "15093  49c9a352-a260-46fb-9edc-a2c2d05fdfb9   \n",
       "15094  f07370e3-feeb-4893-a9ff-4ec4fb518a55   \n",
       "15095  1d4b9293-1733-45ce-8a8e-79d3ac4694eb   \n",
       "15096  d6823ca7-e236-48b1-bf68-6b88d9b6534a   \n",
       "15097  6b26f923-22b2-4de7-b1d5-bce158361dee   \n",
       "\n",
       "                                 id_cliente      nombre   apellido  \\\n",
       "2      6ec4d7d2-e382-47cc-94f6-c647577d4035       Maite  Calatayud   \n",
       "3      aed17fe8-eb18-4f69-bf08-df1afdc339c3       Tecla      Bonet   \n",
       "4      710a2fbb-264f-426a-aa66-f8fffd146a2d     Amílcar     Andrés   \n",
       "5      df42ae3d-0b9b-4c06-b22e-939323833ef8        Joan    Vazquez   \n",
       "6      a16a9d83-6888-4947-a7ab-ed41203e347c       Chelo       Flor   \n",
       "...                                     ...         ...        ...   \n",
       "15093  cc50c0c1-a589-44b7-8a41-2c731d033f89  Victoriano   Miralles   \n",
       "15094  2bf0215f-7f7b-4cfb-9a37-d2022c492410    Anacleto     Toledo   \n",
       "15095  4ba34638-c43e-455f-886d-b3e3dd223a07      Máxima    Mayoral   \n",
       "15096  a017cb9c-160b-4b90-b4a9-4bdb2dce546a        Rafa    Alcaraz   \n",
       "15097  5842d91d-6ca2-4174-920b-8a2e1ca852ba     Eugenio   Quintero   \n",
       "\n",
       "                                  mail  competencia fecha_reserva  \\\n",
       "2          maite.calatayud@example.com        False    2025-02-09   \n",
       "3              tecla.bonet@example.com        False    2025-02-08   \n",
       "4           amílcar.andrés@example.com        False    2025-02-02   \n",
       "5             joan.vazquez@example.com        False    2025-02-08   \n",
       "6               chelo.flor@example.com        False    2025-02-09   \n",
       "...                                ...          ...           ...   \n",
       "15093  victoriano.miralles@example.com        False    2025-02-02   \n",
       "15094      anacleto.toledo@example.com        False    2025-02-07   \n",
       "15095       máxima.mayoral@example.com        False    2025-02-08   \n",
       "15096         rafa.alcaraz@example.com        False    2025-02-10   \n",
       "15097     eugenio.quintero@example.com        False    2025-02-06   \n",
       "\n",
       "      inicio_estancia final_estancia  id_hotel  precio_noche  \\\n",
       "2          2025-03-01     2025-03-02        14        119.96   \n",
       "3          2025-03-01     2025-03-02        38        211.53   \n",
       "4          2025-03-01     2025-03-02        35        378.37   \n",
       "5          2025-03-01     2025-03-02        36         85.45   \n",
       "6          2025-03-01     2025-03-02        43        309.80   \n",
       "...               ...            ...       ...           ...   \n",
       "15093      2025-03-01     2025-03-02        36        367.65   \n",
       "15094      2025-03-01     2025-03-02        38        144.35   \n",
       "15095      2025-03-01     2025-03-02        29        463.32   \n",
       "15096      2025-03-01     2025-03-02        15        247.63   \n",
       "15097      2025-03-01     2025-03-02        28        433.87   \n",
       "\n",
       "                 nombre_hotel  estrellas  ciudad  \n",
       "2           Hotel Monte Verde        1.0  Madrid  \n",
       "3        Hotel Brisas del Mar        5.0  Madrid  \n",
       "4        Hotel Camino del Sol        1.0  Madrid  \n",
       "5      Hotel Puerta del Cielo        5.0  Madrid  \n",
       "6          Hotel Encanto Real        1.0  Madrid  \n",
       "...                       ...        ...     ...  \n",
       "15093     Hotel Las Estrellas        3.0  Madrid  \n",
       "15094       Gran Hotel Madrid        4.0  Madrid  \n",
       "15095  Hotel Jardines del Rey        2.0  Madrid  \n",
       "15096  Hotel Palacio Imperial        1.0  Madrid  \n",
       "15097  Hotel Puerta del Cielo        4.0  Madrid  \n",
       "\n",
       "[9926 rows x 14 columns]"
      ]
     },
     "execution_count": 14,
     "metadata": {},
     "output_type": "execute_result"
    }
   ],
   "source": [
    "\n",
    "# Actualizar los valores nulos en nombre_hotel usando el mapeo\n",
    "df['nombre_hotel'] = df['nombre_hotel'].fillna(df['id_hotel'].map(hotel_name_mapping))\n",
    "\n",
    "# Verificar el resultado\n",
    "competencia_no_df = df[df['competencia'] == False]\n",
    "competencia_no_df['nombre_hotel'].unique()\n",
    "competencia_no_df"
   ]
  },
  {
   "cell_type": "code",
   "execution_count": 15,
   "metadata": {},
   "outputs": [
    {
     "data": {
      "text/plain": [
       "array([''], dtype=object)"
      ]
     },
     "execution_count": 15,
     "metadata": {},
     "output_type": "execute_result"
    }
   ],
   "source": [
    "# Verificar el resultado\n",
    "id_df = df[df['id_hotel'] == 135]\n",
    "#competencia_df['nombre_hotel'].unique()\n",
    "id_df['nombre_hotel'].unique()   "
   ]
  },
  {
   "cell_type": "markdown",
   "metadata": {},
   "source": [
    "### No tenemos los nombres de los hoteles"
   ]
  },
  {
   "cell_type": "code",
   "execution_count": null,
   "metadata": {},
   "outputs": [
    {
     "name": "stdout",
     "output_type": "stream",
     "text": [
      "<class 'pandas.core.series.Series'>\n",
      "Index: 14905 entries, aarón.alemán@example.com to úrsula.ureña@example.com\n",
      "Series name: mail\n",
      "Non-Null Count  Dtype\n",
      "--------------  -----\n",
      "14905 non-null  int64\n",
      "dtypes: int64(1)\n",
      "memory usage: 232.9+ KB\n"
     ]
    }
   ],
   "source": [
    "dfids = df.groupby(['mail'])['mail'].count()\n",
    "dfids_filtered = dfids[dfids > 1]\n",
    "print(dfids_filtered)"
   ]
  },
  {
   "cell_type": "code",
   "execution_count": 92,
   "metadata": {},
   "outputs": [
    {
     "name": "stdout",
     "output_type": "stream",
     "text": [
      "mail\n",
      "abigaíl.ayala@example.com        2\n",
      "adalberto.atienza@example.com    2\n",
      "adelaida.moliner@example.com     2\n",
      "adoración.niño@example.com       2\n",
      "adoración.pol@example.com        2\n",
      "                                ..\n",
      "ámbar.benito@example.com         2\n",
      "ángel.bermejo@example.com        2\n",
      "ángeles.nuñez@example.com        2\n",
      "áurea.morales@example.com        2\n",
      "édgar.jordá@example.com          2\n",
      "Name: mail, Length: 191, dtype: int64\n"
     ]
    }
   ],
   "source": [
    "dfids_filtered = dfids[dfids > 1]\n",
    "print(dfids_filtered)\n"
   ]
  },
  {
   "cell_type": "code",
   "execution_count": 42,
   "metadata": {},
   "outputs": [
    {
     "name": "stdout",
     "output_type": "stream",
     "text": [
      "20\n",
      "29\n",
      "15000\n",
      "14847\n",
      "14905\n"
     ]
    }
   ],
   "source": [
    "hotel_name = df['nombre_hotel'].nunique()  # Hay 20 distintos\n",
    "print(hotel_name)\n",
    "\n",
    "ids_number = df['id_hotel'].nunique()  # Hay 29 hoteles ids distintos\n",
    "print(ids_number)\n",
    "\n",
    "ids_reserva = df['id_reserva'].nunique()  # Hay 15000 reservas ids distintos\n",
    "print(ids_reserva)\n",
    "\n",
    "ids_cliente = df['id_cliente'].nunique()  # Hay 14847 clientes ids distintos\n",
    "print(ids_cliente)\n",
    "\n",
    "emails = df['mail'].nunique()  # Hay 14905 clientes ids distintos\n",
    "print(emails)\n",
    "\n"
   ]
  },
  {
   "cell_type": "markdown",
   "metadata": {},
   "source": [
    "##### Los valores para los hoteles de la competencia estan vaciones. Neceistamos scrapearlos de la web de hoteles de madrid. \n",
    "##### Tenemos 10 hoteles de la competencia. Hay que sacar los 10 primero hoteles que aparezcan y obtener el precio por noche por persona y el numero de estrelas y el nombre del hotel. \n",
    "##### El webscrapping no sale directamente, el previo de los hoteles no sale bien. \n",
    "##### Podemos usar los filtros para encontrar los hotels mas facilmente. \n",
    "##### Nombre del hotel, estrellas, precio y fecha de reserva. "
   ]
  },
  {
   "cell_type": "code",
   "execution_count": 72,
   "metadata": {
    "vscode": {
     "languageId": "ruby"
    }
   },
   "outputs": [
    {
     "name": "stdout",
     "output_type": "stream",
     "text": [
      "{'': 'hotel_01', 'Hotel Monte Verde': 'hotel_02', 'Hotel Brisas del Mar': 'hotel_03', 'Hotel Camino del Sol': 'hotel_04', 'Hotel Puerta del Cielo': 'hotel_05', 'Hotel Encanto Real': 'hotel_06', 'Palacio del Sol': 'hotel_07', 'Hotel Jardines del Rey': 'hotel_08', 'Hotel Las Estrellas': 'hotel_09', 'Gran Hotel Madrid': 'hotel_10', 'Hotel Torre Dorada': 'hotel_11', 'Hotel Palacio Imperial': 'hotel_12', 'Hotel Luz de Madrid': 'hotel_13', 'Hotel Los Almendros': 'hotel_14', 'Hotel Sol y Luna': 'hotel_15', 'Hotel Mirador Real': 'hotel_16', 'Hotel Rincón Sereno': 'hotel_17', 'Hotel Vista Alegre': 'hotel_18', 'Hotel Costa Azul': 'hotel_19', 'Hotel Maravilla Real': 'hotel_20'}\n",
      "           nombre_hotel id_hotel2\n",
      "0                        hotel_01\n",
      "1                        hotel_01\n",
      "2     Hotel Monte Verde  hotel_02\n",
      "3  Hotel Brisas del Mar  hotel_03\n",
      "4  Hotel Camino del Sol  hotel_04\n"
     ]
    }
   ],
   "source": [
    "# Create a dictionary to map hotels to new hotel IDs\n",
    "nombre_hotel_to_id = {nombre_hotel: f'hotel_{i+1:02d}' for i, nombre_hotel in enumerate(df['nombre_hotel'].unique())}\n",
    "\n",
    "print(nombre_hotel_to_id)\n",
    "\n",
    "# Map the emails to the new client IDs\n",
    "df['id_hotel2'] = df['nombre_hotel'].map(nombre_hotel_to_id)\n",
    "\n",
    "# Display the first few rows to verify the changes\n",
    "print(df[['nombre_hotel', 'id_hotel2']].head())"
   ]
  },
  {
   "cell_type": "code",
   "execution_count": null,
   "metadata": {
    "vscode": {
     "languageId": "ruby"
    }
   },
   "outputs": [
    {
     "name": "stdout",
     "output_type": "stream",
     "text": [
      "                           mail id_cliente2\n",
      "0  feliciana.cantón@example.com  cliente_01\n",
      "1   leonardo.hierro@example.com  cliente_02\n",
      "2   maite.calatayud@example.com  cliente_03\n",
      "3       tecla.bonet@example.com  cliente_04\n",
      "4    amílcar.andrés@example.com  cliente_05\n"
     ]
    }
   ],
   "source": [
    "# Create a dictionary to map emails to new client IDs\n",
    "cliente_to_id = {email: f'cliente_{i+1:02d}' for i, email in enumerate(df['mail'].unique())}\n",
    "\n",
    "# Map the emails to the new client IDs\n",
    "df['id_cliente2'] = df['mail'].map(email_to_id)\n",
    "\n",
    "# Display the first few rows to verify the changes\n",
    "print(df[['mail', 'id_cliente2']].head())\n"
   ]
  },
  {
   "cell_type": "code",
   "execution_count": null,
   "metadata": {},
   "outputs": [
    {
     "name": "stdout",
     "output_type": "stream",
     "text": [
      "Series([], Name: mail, dtype: int64)\n"
     ]
    }
   ],
   "source": [
    "## guardame los clientes, nombre, apellido e email\n",
    "df_clientes = df.drop_duplicates(['id_cliente2','nombre','apellido', 'mail'])[['id_cliente2','nombre','apellido', 'mail']]\n",
    "df_clientes.head()\n",
    "\n",
    "## comprbar dups\n",
    "dfids = df_clientes.groupby(['mail'])['mail'].count()\n",
    "dfids_filtered = dfids[dfids > 1]\n",
    "print(dfids_filtered)"
   ]
  },
  {
   "cell_type": "code",
   "execution_count": 76,
   "metadata": {},
   "outputs": [],
   "source": [
    "df_clientes.to_csv('clientes.csv', index=False)"
   ]
  },
  {
   "cell_type": "code",
   "execution_count": 80,
   "metadata": {},
   "outputs": [
    {
     "data": {
      "text/html": [
       "<div>\n",
       "<style scoped>\n",
       "    .dataframe tbody tr th:only-of-type {\n",
       "        vertical-align: middle;\n",
       "    }\n",
       "\n",
       "    .dataframe tbody tr th {\n",
       "        vertical-align: top;\n",
       "    }\n",
       "\n",
       "    .dataframe thead th {\n",
       "        text-align: right;\n",
       "    }\n",
       "</style>\n",
       "<table border=\"1\" class=\"dataframe\">\n",
       "  <thead>\n",
       "    <tr style=\"text-align: right;\">\n",
       "      <th></th>\n",
       "      <th>id_hotel2</th>\n",
       "      <th>nombre_hotel</th>\n",
       "      <th>estrellas</th>\n",
       "      <th>precio_noche</th>\n",
       "    </tr>\n",
       "  </thead>\n",
       "  <tbody>\n",
       "    <tr>\n",
       "      <th>0</th>\n",
       "      <td>hotel_01</td>\n",
       "      <td></td>\n",
       "      <td>NaN</td>\n",
       "      <td>NaN</td>\n",
       "    </tr>\n",
       "    <tr>\n",
       "      <th>2</th>\n",
       "      <td>hotel_02</td>\n",
       "      <td>Hotel Monte Verde</td>\n",
       "      <td>1.0</td>\n",
       "      <td>119.96</td>\n",
       "    </tr>\n",
       "    <tr>\n",
       "      <th>3</th>\n",
       "      <td>hotel_03</td>\n",
       "      <td>Hotel Brisas del Mar</td>\n",
       "      <td>5.0</td>\n",
       "      <td>211.53</td>\n",
       "    </tr>\n",
       "    <tr>\n",
       "      <th>4</th>\n",
       "      <td>hotel_04</td>\n",
       "      <td>Hotel Camino del Sol</td>\n",
       "      <td>1.0</td>\n",
       "      <td>378.37</td>\n",
       "    </tr>\n",
       "    <tr>\n",
       "      <th>5</th>\n",
       "      <td>hotel_05</td>\n",
       "      <td>Hotel Puerta del Cielo</td>\n",
       "      <td>5.0</td>\n",
       "      <td>85.45</td>\n",
       "    </tr>\n",
       "  </tbody>\n",
       "</table>\n",
       "</div>"
      ],
      "text/plain": [
       "  id_hotel2            nombre_hotel  estrellas  precio_noche\n",
       "0  hotel_01                                NaN           NaN\n",
       "2  hotel_02       Hotel Monte Verde        1.0        119.96\n",
       "3  hotel_03    Hotel Brisas del Mar        5.0        211.53\n",
       "4  hotel_04    Hotel Camino del Sol        1.0        378.37\n",
       "5  hotel_05  Hotel Puerta del Cielo        5.0         85.45"
      ]
     },
     "execution_count": 80,
     "metadata": {},
     "output_type": "execute_result"
    }
   ],
   "source": [
    "## guardame los hoteles, nombre, y estrellas y precio\n",
    "df_hoteles = df.drop_duplicates(['id_hotel2','nombre_hotel','estrellas', 'precio_noche'])[['id_hotel2','nombre_hotel','estrellas', 'precio_noche']]\n",
    "df_hoteles.head()"
   ]
  },
  {
   "cell_type": "code",
   "execution_count": 81,
   "metadata": {},
   "outputs": [],
   "source": [
    "df_hoteles.to_csv('hoteles.csv', index=False)"
   ]
  },
  {
   "cell_type": "code",
   "execution_count": 83,
   "metadata": {},
   "outputs": [],
   "source": [
    "grouped = df_hoteles.groupby(['nombre_hotel', 'id_hotel2'])\n",
    "\n",
    "average_stars = grouped.mean().round(1)\n",
    "\n",
    "# Reset the index to have a numeric index\n",
    "average_stars.reset_index(inplace=True)\n",
    "\n",
    "average_stars.head()\n",
    "\n",
    "average_stars.to_csv('hoteles_average_stars.csv', index=True)"
   ]
  },
  {
   "cell_type": "code",
   "execution_count": 95,
   "metadata": {},
   "outputs": [
    {
     "name": "stdout",
     "output_type": "stream",
     "text": [
      "Series([], Name: id_reserva, dtype: int64)\n"
     ]
    }
   ],
   "source": [
    "## preparar el df de reservas\n",
    "df_reservas = df.drop_duplicates(['id_reserva', 'id_cliente2', 'id_hotel2', 'inicio_estancia', 'final_estancia', 'precio_noche', 'competencia'])[['id_reserva', 'id_cliente2', 'id_hotel2', 'inicio_estancia', 'final_estancia', 'precio_noche', 'competencia']]\n",
    "df_reservas.head()\n",
    "\n",
    "df_reservas.to_csv('reservas.csv', index=False)\n",
    "\n",
    "dfids = df_reservas.groupby(['id_reserva'])['id_reserva'].count()\n",
    "dfids_filtered = dfids[dfids > 1]\n",
    "print(dfids_filtered)\n",
    "\n"
   ]
  }
 ],
 "metadata": {
  "kernelspec": {
   "display_name": "data_analytics_env",
   "language": "python",
   "name": "python3"
  },
  "language_info": {
   "codemirror_mode": {
    "name": "ipython",
    "version": 3
   },
   "file_extension": ".py",
   "mimetype": "text/x-python",
   "name": "python",
   "nbconvert_exporter": "python",
   "pygments_lexer": "ipython3",
   "version": "3.8.20"
  }
 },
 "nbformat": 4,
 "nbformat_minor": 2
}
