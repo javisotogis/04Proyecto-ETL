{
 "cells": [
  {
   "cell_type": "markdown",
   "metadata": {},
   "source": [
    "import psycopg2\n",
    "import pandas as pd\n",
    "\n",
    "def insert_dataframe_to_postgresql(table_name, dataframe, conn_params):\n",
    "    \"\"\"\n",
    "    Inserts a pandas DataFrame into a PostgreSQL table.\n",
    "\n",
    "    Parameters:\n",
    "    table_name (str): Name of the target table in PostgreSQL.\n",
    "    dataframe (pd.DataFrame): DataFrame to be inserted.\n",
    "    conn_params (dict): Dictionary containing connection parameters with keys:\n",
    "                        'dbname', 'user', 'password', 'host', 'port'.\n",
    "    \"\"\"\n",
    "    # Establish connection to PostgreSQL\n",
    "    conn = psycopg2.connect(**conn_params)\n",
    "    cursor = conn.cursor()\n",
    "\n",
    "    # Create insert query dynamically based on DataFrame columns\n",
    "    columns = ', '.join(dataframe.columns)\n",
    "    values = ', '.join(['%s'] * len(dataframe.columns))\n",
    "    insert_query = f\"INSERT INTO {table_name} ({columns}) VALUES ({values})\"\n",
    "\n",
    "    # Insert DataFrame rows into PostgreSQL table\n",
    "    for row in dataframe.itertuples(index=False, name=None):\n",
    "        cursor.execute(insert_query, row)\n",
    "\n",
    "    # Commit changes and close connection\n",
    "    conn.commit()\n",
    "    cursor.close()\n",
    "    conn.close()\n",
    "\n",
    "# Example usage\n",
    "conn_params = {\n",
    "    'dbname': 'your_dbname',\n",
    "    'user': 'your_username',\n",
    "    'password': 'your_password',\n",
    "    'host': 'your_host',\n",
    "    'port': 'your_port'\n",
    "}\n",
    "\n",
    "# Assuming df is your DataFrame\n",
    "# insert_dataframe_to_postgresql('your_table_name', df, conn_params)\n",
    "```"
   ]
  }
 ],
 "metadata": {
  "language_info": {
   "name": "python"
  }
 },
 "nbformat": 4,
 "nbformat_minor": 2
}
