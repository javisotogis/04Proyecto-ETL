{
 "cells": [
  {
   "cell_type": "code",
   "execution_count": 1,
   "metadata": {},
   "outputs": [],
   "source": [
    "import pandas as pd\n",
    "import numpy as np\n",
    "\n",
    "import seaborn as sns\n",
    "import matplotlib.pyplot as plt"
   ]
  },
  {
   "cell_type": "code",
   "execution_count": 2,
   "metadata": {},
   "outputs": [],
   "source": [
    "# Configuración de estilo de gráficos\n",
    "plt.style.use('ggplot')\n",
    "sns.set_theme(style=\"whitegrid\")\n",
    "\n",
    "# Cargar el archivo parquet\n",
    "file_path = 'reservas_hoteles.parquet'\n",
    "df = pd.read_parquet(file_path)"
   ]
  },
  {
   "cell_type": "code",
   "execution_count": 3,
   "metadata": {},
   "outputs": [],
   "source": [
    "# 1. Filtrar por competencia == False\n",
    "df_false = df[df['competencia'] == False].copy()\n"
   ]
  },
  {
   "cell_type": "code",
   "execution_count": 4,
   "metadata": {},
   "outputs": [
    {
     "name": "stdout",
     "output_type": "stream",
     "text": [
      "{'': 'hotel_01', 'Hotel Monte Verde': 'hotel_02', 'Hotel Brisas del Mar': 'hotel_03', 'Hotel Camino del Sol': 'hotel_04', 'Hotel Puerta del Cielo': 'hotel_05', 'Hotel Encanto Real': 'hotel_06', 'Palacio del Sol': 'hotel_07', 'Hotel Jardines del Rey': 'hotel_08', 'Hotel Las Estrellas': 'hotel_09', 'Gran Hotel Madrid': 'hotel_10', 'Hotel Torre Dorada': 'hotel_11', 'Hotel Palacio Imperial': 'hotel_12', 'Hotel Luz de Madrid': 'hotel_13', 'Hotel Los Almendros': 'hotel_14', 'Hotel Sol y Luna': 'hotel_15', 'Hotel Mirador Real': 'hotel_16', 'Hotel Rincón Sereno': 'hotel_17', 'Hotel Vista Alegre': 'hotel_18', 'Hotel Costa Azul': 'hotel_19', 'Hotel Maravilla Real': 'hotel_20'}\n",
      "             nombre_hotel id_hotel2\n",
      "2       Hotel Monte Verde  hotel_02\n",
      "3    Hotel Brisas del Mar  hotel_03\n",
      "4    Hotel Camino del Sol  hotel_04\n",
      "5  Hotel Puerta del Cielo  hotel_05\n",
      "6      Hotel Encanto Real  hotel_06\n"
     ]
    }
   ],
   "source": [
    "# 2. Crear id_hotel2 basado en nombre_hotel único\n",
    "nombre_hotel_to_id = {nombre_hotel: f'hotel_{i+1:02d}' for i, nombre_hotel in enumerate(df['nombre_hotel'].unique())}\n",
    "\n",
    "print(nombre_hotel_to_id)\n",
    "\n",
    "# Map the emails to the new client IDs\n",
    "df_false['id_hotel2'] = df_false['nombre_hotel'].map(nombre_hotel_to_id)\n",
    "\n",
    "# Display the first few rows to verify the changes\n",
    "print(df_false[['nombre_hotel', 'id_hotel2']].head())\n"
   ]
  },
  {
   "cell_type": "code",
   "execution_count": 5,
   "metadata": {},
   "outputs": [],
   "source": [
    "# 3. Actualizar el df original dejando como null los id_hotel2 donde competencia == True\n",
    "df = df.merge(df_false[['nombre_hotel', 'id_hotel2']], on='nombre_hotel', how='left')\n",
    "df['id_hotel2'] = np.where(df['competencia'] == True, np.nan, df['id_hotel2'])\n",
    "\n"
   ]
  },
  {
   "cell_type": "code",
   "execution_count": 6,
   "metadata": {},
   "outputs": [
    {
     "data": {
      "text/html": [
       "<div>\n",
       "<style scoped>\n",
       "    .dataframe tbody tr th:only-of-type {\n",
       "        vertical-align: middle;\n",
       "    }\n",
       "\n",
       "    .dataframe tbody tr th {\n",
       "        vertical-align: top;\n",
       "    }\n",
       "\n",
       "    .dataframe thead th {\n",
       "        text-align: right;\n",
       "    }\n",
       "</style>\n",
       "<table border=\"1\" class=\"dataframe\">\n",
       "  <thead>\n",
       "    <tr style=\"text-align: right;\">\n",
       "      <th></th>\n",
       "      <th>id_reserva</th>\n",
       "      <th>id_cliente</th>\n",
       "      <th>nombre</th>\n",
       "      <th>apellido</th>\n",
       "      <th>mail</th>\n",
       "      <th>competencia</th>\n",
       "      <th>fecha_reserva</th>\n",
       "      <th>inicio_estancia</th>\n",
       "      <th>final_estancia</th>\n",
       "      <th>id_hotel</th>\n",
       "      <th>precio_noche</th>\n",
       "      <th>nombre_hotel</th>\n",
       "      <th>estrellas</th>\n",
       "      <th>ciudad</th>\n",
       "      <th>id_hotel2</th>\n",
       "    </tr>\n",
       "  </thead>\n",
       "  <tbody>\n",
       "    <tr>\n",
       "      <th>0</th>\n",
       "      <td>5256cc90-139b-43d2-8ec5-412495d751cf</td>\n",
       "      <td>346f2a77-33f4-4b2d-82f3-e8501e21b28d</td>\n",
       "      <td>Feliciana</td>\n",
       "      <td>Cantón</td>\n",
       "      <td>feliciana.cantón@example.com</td>\n",
       "      <td>True</td>\n",
       "      <td></td>\n",
       "      <td>2025-03-01</td>\n",
       "      <td>2025-03-02</td>\n",
       "      <td>113</td>\n",
       "      <td>NaN</td>\n",
       "      <td></td>\n",
       "      <td>NaN</td>\n",
       "      <td></td>\n",
       "      <td>NaN</td>\n",
       "    </tr>\n",
       "    <tr>\n",
       "      <th>1</th>\n",
       "      <td>84fd6209-bd8d-4a92-bfe6-c68ee2c49271</td>\n",
       "      <td>346f2a77-33f4-4b2d-82f3-e8501e21b28d</td>\n",
       "      <td>Leonardo</td>\n",
       "      <td>Hierro</td>\n",
       "      <td>leonardo.hierro@example.com</td>\n",
       "      <td>True</td>\n",
       "      <td></td>\n",
       "      <td>2025-03-01</td>\n",
       "      <td>2025-03-02</td>\n",
       "      <td>194</td>\n",
       "      <td>NaN</td>\n",
       "      <td></td>\n",
       "      <td>NaN</td>\n",
       "      <td></td>\n",
       "      <td>NaN</td>\n",
       "    </tr>\n",
       "    <tr>\n",
       "      <th>2</th>\n",
       "      <td>40c4cb55-d1f5-407b-832f-4756b8ff77b4</td>\n",
       "      <td>6ec4d7d2-e382-47cc-94f6-c647577d4035</td>\n",
       "      <td>Maite</td>\n",
       "      <td>Calatayud</td>\n",
       "      <td>maite.calatayud@example.com</td>\n",
       "      <td>False</td>\n",
       "      <td>2025-02-09</td>\n",
       "      <td>2025-03-01</td>\n",
       "      <td>2025-03-02</td>\n",
       "      <td>14</td>\n",
       "      <td>119.96</td>\n",
       "      <td>Hotel Monte Verde</td>\n",
       "      <td>1.0</td>\n",
       "      <td>Madrid</td>\n",
       "      <td>hotel_02</td>\n",
       "    </tr>\n",
       "    <tr>\n",
       "      <th>3</th>\n",
       "      <td>40c4cb55-d1f5-407b-832f-4756b8ff77b4</td>\n",
       "      <td>6ec4d7d2-e382-47cc-94f6-c647577d4035</td>\n",
       "      <td>Maite</td>\n",
       "      <td>Calatayud</td>\n",
       "      <td>maite.calatayud@example.com</td>\n",
       "      <td>False</td>\n",
       "      <td>2025-02-09</td>\n",
       "      <td>2025-03-01</td>\n",
       "      <td>2025-03-02</td>\n",
       "      <td>14</td>\n",
       "      <td>119.96</td>\n",
       "      <td>Hotel Monte Verde</td>\n",
       "      <td>1.0</td>\n",
       "      <td>Madrid</td>\n",
       "      <td>hotel_02</td>\n",
       "    </tr>\n",
       "    <tr>\n",
       "      <th>4</th>\n",
       "      <td>40c4cb55-d1f5-407b-832f-4756b8ff77b4</td>\n",
       "      <td>6ec4d7d2-e382-47cc-94f6-c647577d4035</td>\n",
       "      <td>Maite</td>\n",
       "      <td>Calatayud</td>\n",
       "      <td>maite.calatayud@example.com</td>\n",
       "      <td>False</td>\n",
       "      <td>2025-02-09</td>\n",
       "      <td>2025-03-01</td>\n",
       "      <td>2025-03-02</td>\n",
       "      <td>14</td>\n",
       "      <td>119.96</td>\n",
       "      <td>Hotel Monte Verde</td>\n",
       "      <td>1.0</td>\n",
       "      <td>Madrid</td>\n",
       "      <td>hotel_02</td>\n",
       "    </tr>\n",
       "    <tr>\n",
       "      <th>5</th>\n",
       "      <td>40c4cb55-d1f5-407b-832f-4756b8ff77b4</td>\n",
       "      <td>6ec4d7d2-e382-47cc-94f6-c647577d4035</td>\n",
       "      <td>Maite</td>\n",
       "      <td>Calatayud</td>\n",
       "      <td>maite.calatayud@example.com</td>\n",
       "      <td>False</td>\n",
       "      <td>2025-02-09</td>\n",
       "      <td>2025-03-01</td>\n",
       "      <td>2025-03-02</td>\n",
       "      <td>14</td>\n",
       "      <td>119.96</td>\n",
       "      <td>Hotel Monte Verde</td>\n",
       "      <td>1.0</td>\n",
       "      <td>Madrid</td>\n",
       "      <td>hotel_02</td>\n",
       "    </tr>\n",
       "    <tr>\n",
       "      <th>6</th>\n",
       "      <td>40c4cb55-d1f5-407b-832f-4756b8ff77b4</td>\n",
       "      <td>6ec4d7d2-e382-47cc-94f6-c647577d4035</td>\n",
       "      <td>Maite</td>\n",
       "      <td>Calatayud</td>\n",
       "      <td>maite.calatayud@example.com</td>\n",
       "      <td>False</td>\n",
       "      <td>2025-02-09</td>\n",
       "      <td>2025-03-01</td>\n",
       "      <td>2025-03-02</td>\n",
       "      <td>14</td>\n",
       "      <td>119.96</td>\n",
       "      <td>Hotel Monte Verde</td>\n",
       "      <td>1.0</td>\n",
       "      <td>Madrid</td>\n",
       "      <td>hotel_02</td>\n",
       "    </tr>\n",
       "    <tr>\n",
       "      <th>7</th>\n",
       "      <td>40c4cb55-d1f5-407b-832f-4756b8ff77b4</td>\n",
       "      <td>6ec4d7d2-e382-47cc-94f6-c647577d4035</td>\n",
       "      <td>Maite</td>\n",
       "      <td>Calatayud</td>\n",
       "      <td>maite.calatayud@example.com</td>\n",
       "      <td>False</td>\n",
       "      <td>2025-02-09</td>\n",
       "      <td>2025-03-01</td>\n",
       "      <td>2025-03-02</td>\n",
       "      <td>14</td>\n",
       "      <td>119.96</td>\n",
       "      <td>Hotel Monte Verde</td>\n",
       "      <td>1.0</td>\n",
       "      <td>Madrid</td>\n",
       "      <td>hotel_02</td>\n",
       "    </tr>\n",
       "    <tr>\n",
       "      <th>8</th>\n",
       "      <td>40c4cb55-d1f5-407b-832f-4756b8ff77b4</td>\n",
       "      <td>6ec4d7d2-e382-47cc-94f6-c647577d4035</td>\n",
       "      <td>Maite</td>\n",
       "      <td>Calatayud</td>\n",
       "      <td>maite.calatayud@example.com</td>\n",
       "      <td>False</td>\n",
       "      <td>2025-02-09</td>\n",
       "      <td>2025-03-01</td>\n",
       "      <td>2025-03-02</td>\n",
       "      <td>14</td>\n",
       "      <td>119.96</td>\n",
       "      <td>Hotel Monte Verde</td>\n",
       "      <td>1.0</td>\n",
       "      <td>Madrid</td>\n",
       "      <td>hotel_02</td>\n",
       "    </tr>\n",
       "    <tr>\n",
       "      <th>9</th>\n",
       "      <td>40c4cb55-d1f5-407b-832f-4756b8ff77b4</td>\n",
       "      <td>6ec4d7d2-e382-47cc-94f6-c647577d4035</td>\n",
       "      <td>Maite</td>\n",
       "      <td>Calatayud</td>\n",
       "      <td>maite.calatayud@example.com</td>\n",
       "      <td>False</td>\n",
       "      <td>2025-02-09</td>\n",
       "      <td>2025-03-01</td>\n",
       "      <td>2025-03-02</td>\n",
       "      <td>14</td>\n",
       "      <td>119.96</td>\n",
       "      <td>Hotel Monte Verde</td>\n",
       "      <td>1.0</td>\n",
       "      <td>Madrid</td>\n",
       "      <td>hotel_02</td>\n",
       "    </tr>\n",
       "  </tbody>\n",
       "</table>\n",
       "</div>"
      ],
      "text/plain": [
       "                             id_reserva                            id_cliente  \\\n",
       "0  5256cc90-139b-43d2-8ec5-412495d751cf  346f2a77-33f4-4b2d-82f3-e8501e21b28d   \n",
       "1  84fd6209-bd8d-4a92-bfe6-c68ee2c49271  346f2a77-33f4-4b2d-82f3-e8501e21b28d   \n",
       "2  40c4cb55-d1f5-407b-832f-4756b8ff77b4  6ec4d7d2-e382-47cc-94f6-c647577d4035   \n",
       "3  40c4cb55-d1f5-407b-832f-4756b8ff77b4  6ec4d7d2-e382-47cc-94f6-c647577d4035   \n",
       "4  40c4cb55-d1f5-407b-832f-4756b8ff77b4  6ec4d7d2-e382-47cc-94f6-c647577d4035   \n",
       "5  40c4cb55-d1f5-407b-832f-4756b8ff77b4  6ec4d7d2-e382-47cc-94f6-c647577d4035   \n",
       "6  40c4cb55-d1f5-407b-832f-4756b8ff77b4  6ec4d7d2-e382-47cc-94f6-c647577d4035   \n",
       "7  40c4cb55-d1f5-407b-832f-4756b8ff77b4  6ec4d7d2-e382-47cc-94f6-c647577d4035   \n",
       "8  40c4cb55-d1f5-407b-832f-4756b8ff77b4  6ec4d7d2-e382-47cc-94f6-c647577d4035   \n",
       "9  40c4cb55-d1f5-407b-832f-4756b8ff77b4  6ec4d7d2-e382-47cc-94f6-c647577d4035   \n",
       "\n",
       "      nombre   apellido                          mail  competencia  \\\n",
       "0  Feliciana     Cantón  feliciana.cantón@example.com         True   \n",
       "1   Leonardo     Hierro   leonardo.hierro@example.com         True   \n",
       "2      Maite  Calatayud   maite.calatayud@example.com        False   \n",
       "3      Maite  Calatayud   maite.calatayud@example.com        False   \n",
       "4      Maite  Calatayud   maite.calatayud@example.com        False   \n",
       "5      Maite  Calatayud   maite.calatayud@example.com        False   \n",
       "6      Maite  Calatayud   maite.calatayud@example.com        False   \n",
       "7      Maite  Calatayud   maite.calatayud@example.com        False   \n",
       "8      Maite  Calatayud   maite.calatayud@example.com        False   \n",
       "9      Maite  Calatayud   maite.calatayud@example.com        False   \n",
       "\n",
       "  fecha_reserva inicio_estancia final_estancia  id_hotel  precio_noche  \\\n",
       "0                    2025-03-01     2025-03-02       113           NaN   \n",
       "1                    2025-03-01     2025-03-02       194           NaN   \n",
       "2    2025-02-09      2025-03-01     2025-03-02        14        119.96   \n",
       "3    2025-02-09      2025-03-01     2025-03-02        14        119.96   \n",
       "4    2025-02-09      2025-03-01     2025-03-02        14        119.96   \n",
       "5    2025-02-09      2025-03-01     2025-03-02        14        119.96   \n",
       "6    2025-02-09      2025-03-01     2025-03-02        14        119.96   \n",
       "7    2025-02-09      2025-03-01     2025-03-02        14        119.96   \n",
       "8    2025-02-09      2025-03-01     2025-03-02        14        119.96   \n",
       "9    2025-02-09      2025-03-01     2025-03-02        14        119.96   \n",
       "\n",
       "        nombre_hotel  estrellas  ciudad id_hotel2  \n",
       "0                           NaN               NaN  \n",
       "1                           NaN               NaN  \n",
       "2  Hotel Monte Verde        1.0  Madrid  hotel_02  \n",
       "3  Hotel Monte Verde        1.0  Madrid  hotel_02  \n",
       "4  Hotel Monte Verde        1.0  Madrid  hotel_02  \n",
       "5  Hotel Monte Verde        1.0  Madrid  hotel_02  \n",
       "6  Hotel Monte Verde        1.0  Madrid  hotel_02  \n",
       "7  Hotel Monte Verde        1.0  Madrid  hotel_02  \n",
       "8  Hotel Monte Verde        1.0  Madrid  hotel_02  \n",
       "9  Hotel Monte Verde        1.0  Madrid  hotel_02  "
      ]
     },
     "execution_count": 6,
     "metadata": {},
     "output_type": "execute_result"
    }
   ],
   "source": [
    "df.head(10)"
   ]
  },
  {
   "cell_type": "code",
   "execution_count": 7,
   "metadata": {},
   "outputs": [
    {
     "name": "stdout",
     "output_type": "stream",
     "text": [
      "                           mail id_cliente2\n",
      "0  feliciana.cantón@example.com  cliente_01\n",
      "1   leonardo.hierro@example.com  cliente_02\n",
      "2   maite.calatayud@example.com  cliente_03\n",
      "3   maite.calatayud@example.com  cliente_03\n",
      "4   maite.calatayud@example.com  cliente_03\n"
     ]
    }
   ],
   "source": [
    "# 4. Crear id_cliente2 en base a mail único\n",
    "cliente_to_id = {email: f'cliente_{i+1:02d}' for i, email in enumerate(df['mail'].unique())}\n",
    "\n",
    "# Map the emails to the new client IDs\n",
    "df['id_cliente2'] = df['mail'].map(cliente_to_id)\n",
    "\n",
    "# Display the first few rows to verify the changes\n",
    "print(df[['mail', 'id_cliente2']].head())\n",
    "\n"
   ]
  },
  {
   "cell_type": "code",
   "execution_count": 8,
   "metadata": {},
   "outputs": [],
   "source": [
    "# 5. Crear el DataFrame clientes_db con las columnas id_cliente, nombre, apellido y mail\n",
    "clientes_db = df[['id_cliente2', 'nombre', 'apellido', 'mail']].copy()\n",
    "clientes_db.rename(columns={'id_cliente2': 'id_cliente'}, inplace=True)\n",
    "clientes_db.drop_duplicates(inplace=True)\n",
    "clientes_db.reset_index(drop=True, inplace=True)\n",
    "clientes_db.to_csv(r'datos_a_db\\clientes_db.csv', index=False)"
   ]
  },
  {
   "cell_type": "code",
   "execution_count": 9,
   "metadata": {},
   "outputs": [
    {
     "data": {
      "text/plain": [
       "array([nan, 'hotel_02', 'hotel_03', 'hotel_04', 'hotel_05', 'hotel_06',\n",
       "       'hotel_07', 'hotel_08', 'hotel_09', 'hotel_10', 'hotel_11',\n",
       "       'hotel_12', 'hotel_13', 'hotel_14', 'hotel_15', 'hotel_16',\n",
       "       'hotel_17', 'hotel_18', 'hotel_19', 'hotel_20'], dtype=object)"
      ]
     },
     "execution_count": 9,
     "metadata": {},
     "output_type": "execute_result"
    }
   ],
   "source": [
    "df['id_hotel2'].unique()"
   ]
  },
  {
   "cell_type": "code",
   "execution_count": 10,
   "metadata": {},
   "outputs": [
    {
     "name": "stdout",
     "output_type": "stream",
     "text": [
      "                                id_reserva  \\\n",
      "0     5256cc90-139b-43d2-8ec5-412495d751cf   \n",
      "1     84fd6209-bd8d-4a92-bfe6-c68ee2c49271   \n",
      "2665  4d65096e-5f12-4ce7-9fd6-dd20e3cf5194   \n",
      "3182  458029ad-cc9b-4d85-8290-fec170bcc02d   \n",
      "3693  ac0fe86e-90a0-4fe6-a02e-6ea00e9a8621   \n",
      "\n",
      "                                id_cliente        nombre apellido  \\\n",
      "0     346f2a77-33f4-4b2d-82f3-e8501e21b28d     Feliciana   Cantón   \n",
      "1     346f2a77-33f4-4b2d-82f3-e8501e21b28d      Leonardo   Hierro   \n",
      "2665  443a7307-2183-4051-b0bb-26f12fc1f478        Judith    Rivas   \n",
      "3182  e1a34338-a0aa-4b0e-96de-55f884eeb074        Adolfo   Cuervo   \n",
      "3693  2949fb90-39ab-4613-b4c1-e238bb56faf3  María Carmen  Navarro   \n",
      "\n",
      "                                  mail  competencia fecha_reserva  \\\n",
      "0         feliciana.cantón@example.com         True                 \n",
      "1          leonardo.hierro@example.com         True                 \n",
      "2665          judith.rivas@example.com         True                 \n",
      "3182         adolfo.cuervo@example.com         True                 \n",
      "3693  maría carmen.navarro@example.com         True                 \n",
      "\n",
      "     inicio_estancia final_estancia  id_hotel  precio_noche nombre_hotel  \\\n",
      "0         2025-03-01     2025-03-02       113           NaN                \n",
      "1         2025-03-01     2025-03-02       194           NaN                \n",
      "2665      2025-03-01     2025-03-02       131           NaN                \n",
      "3182      2025-03-01     2025-03-02       114           NaN                \n",
      "3693      2025-03-01     2025-03-02       103           NaN                \n",
      "\n",
      "      estrellas ciudad id_hotel2 id_cliente2  \n",
      "0           NaN              NaN  cliente_01  \n",
      "1           NaN              NaN  cliente_02  \n",
      "2665        NaN              NaN  cliente_08  \n",
      "3182        NaN              NaN  cliente_10  \n",
      "3693        NaN              NaN  cliente_12  \n"
     ]
    }
   ],
   "source": [
    "### Competencia TRUE\n",
    "\n",
    "# Step 1: Filter the DataFrame where competencia is True\n",
    "df_filtered = df[df['competencia'] == True]\n",
    "\n",
    "print(df_filtered.head())\n",
    "\n"
   ]
  },
  {
   "cell_type": "code",
   "execution_count": 11,
   "metadata": {},
   "outputs": [
    {
     "name": "stdout",
     "output_type": "stream",
     "text": [
      "0        113\n",
      "1        194\n",
      "2665     131\n",
      "3182     114\n",
      "3693     103\n",
      "3694     181\n",
      "4741     128\n",
      "12100    186\n",
      "17856    135\n",
      "29253    117\n",
      "Name: id_hotel, dtype: int64\n"
     ]
    }
   ],
   "source": [
    "# Step 2: Select up to 10 unique hotel IDs\n",
    "unique_hotels = df_filtered['id_hotel'].drop_duplicates()\n",
    "\n",
    "print(unique_hotels)\n",
    "\n"
   ]
  },
  {
   "cell_type": "code",
   "execution_count": 12,
   "metadata": {},
   "outputs": [
    {
     "name": "stdout",
     "output_type": "stream",
     "text": [
      "{113: 'hotel_21', 194: 'hotel_22', 131: 'hotel_23', 114: 'hotel_24', 103: 'hotel_25', 181: 'hotel_26', 128: 'hotel_27', 186: 'hotel_28', 135: 'hotel_29', 117: 'hotel_30'}\n"
     ]
    }
   ],
   "source": [
    "# Step 3: Create a dictionary mapping from original IDs to hotel_21 - hotel_30\n",
    "id_mapping = {hotel_id: f'hotel_{21 + idx}' for idx, hotel_id in enumerate(unique_hotels)}\n",
    "\n",
    "print(id_mapping)\n",
    "\n"
   ]
  },
  {
   "cell_type": "code",
   "execution_count": 13,
   "metadata": {},
   "outputs": [
    {
     "data": {
      "text/plain": [
       "array([nan, 'hotel_02', 'hotel_03', 'hotel_04', 'hotel_05', 'hotel_06',\n",
       "       'hotel_07', 'hotel_08', 'hotel_09', 'hotel_10', 'hotel_11',\n",
       "       'hotel_12', 'hotel_13', 'hotel_14', 'hotel_15', 'hotel_16',\n",
       "       'hotel_17', 'hotel_18', 'hotel_19', 'hotel_20'], dtype=object)"
      ]
     },
     "execution_count": 13,
     "metadata": {},
     "output_type": "execute_result"
    }
   ],
   "source": [
    "df['id_hotel2'].unique()"
   ]
  },
  {
   "cell_type": "code",
   "execution_count": 14,
   "metadata": {},
   "outputs": [],
   "source": [
    "# Step 4: Update the original DataFrame with the new id_hoteles2 ONLY WHEN id_hotel2 is NaN\n",
    "df['id_hotel2'] = df.apply(lambda row: id_mapping.get(row['id_hotel'], row['id_hotel2']) if pd.isna(row['id_hotel2']) else row['id_hotel2'],axis=1)"
   ]
  },
  {
   "cell_type": "code",
   "execution_count": 15,
   "metadata": {},
   "outputs": [
    {
     "data": {
      "text/plain": [
       "array(['hotel_21', 'hotel_22', 'hotel_02', 'hotel_03', 'hotel_04',\n",
       "       'hotel_05', 'hotel_06', 'hotel_23', 'hotel_07', 'hotel_24',\n",
       "       'hotel_08', 'hotel_25', 'hotel_26', 'hotel_09', 'hotel_10',\n",
       "       'hotel_27', 'hotel_11', 'hotel_12', 'hotel_13', 'hotel_14',\n",
       "       'hotel_15', 'hotel_16', 'hotel_28', 'hotel_17', 'hotel_18',\n",
       "       'hotel_19', 'hotel_29', 'hotel_20', 'hotel_30'], dtype=object)"
      ]
     },
     "execution_count": 15,
     "metadata": {},
     "output_type": "execute_result"
    }
   ],
   "source": [
    "df['id_hotel2'].unique()"
   ]
  },
  {
   "cell_type": "code",
   "execution_count": 16,
   "metadata": {},
   "outputs": [],
   "source": [
    "# Cargar el DataFrame desde el archivo CSV\n",
    "df_competencia = pd.read_csv(r'datos_a_db\\hoteles_competencia.csv')\n",
    "\n",
    "# Crear el campo id_hotel2 desde hotel_21 hasta hotel_30 según nombre_hotel\n",
    "df_competencia['id_hotel2'] = [\n",
    "    f'hotel_{21 + idx}' for idx in range(len(df_competencia))\n",
    "]\n",
    "\n",
    "# Filtrar df_competencia para que solo incluya el rango de hotel_21 a hotel_30\n",
    "df_competencia = df_competencia[df_competencia['id_hotel2'].isin(\n",
    "    [f'hotel_{i}' for i in range(21, 31)]\n",
    ")]\n",
    "\n",
    "# Cargar el DataFrame original llamado df (asumo que ya está cargado en tu entorno)\n",
    "# Ahora hacemos la unión usando id_hotel2\n",
    "df = df.merge(df_competencia[['id_hotel2', 'nombre_hotel', 'estrellas', 'precio_noche', 'fecha_reserva']],\n",
    "              on='id_hotel2', how='left', suffixes=('', '_comp'))\n",
    "\n",
    "# Actualizar solo las columnas especificadas en el rango de hotel_21 a hotel_30\n",
    "mask = df['id_hotel2'].isin([f'hotel_{i}' for i in range(21, 31)])\n",
    "df.loc[mask, ['nombre_hotel', 'estrellas', 'precio_noche', 'fecha_reserva']] = df.loc[\n",
    "    mask, ['nombre_hotel_comp', 'estrellas_comp', 'precio_noche_comp', 'fecha_reserva_comp']\n",
    "].values\n",
    "\n",
    "# Eliminar las columnas temporales\n",
    "df.drop(columns=['nombre_hotel_comp', 'estrellas_comp', 'precio_noche_comp', 'fecha_reserva_comp'], inplace=True)\n",
    "\n"
   ]
  },
  {
   "cell_type": "code",
   "execution_count": 17,
   "metadata": {},
   "outputs": [],
   "source": [
    "#"
   ]
  },
  {
   "cell_type": "code",
   "execution_count": 18,
   "metadata": {},
   "outputs": [
    {
     "data": {
      "text/plain": [
       "0          4.7\n",
       "1          4.5\n",
       "2          1.0\n",
       "3          1.0\n",
       "4          1.0\n",
       "          ... \n",
       "5199305    4.0\n",
       "5199306    4.0\n",
       "5199307    4.0\n",
       "5199308    4.0\n",
       "5199309    4.0\n",
       "Name: estrellas, Length: 5199310, dtype: float64"
      ]
     },
     "execution_count": 18,
     "metadata": {},
     "output_type": "execute_result"
    }
   ],
   "source": [
    "df['estrellas']"
   ]
  },
  {
   "cell_type": "code",
   "execution_count": 19,
   "metadata": {},
   "outputs": [],
   "source": [
    "# Agrupar por id_hotel2 y calcular el promedio de estrellas\n",
    "hoteles_agrupados = df.groupby('id_hotel2').agg({\n",
    "    'nombre_hotel': 'first',\n",
    "    'fecha_reserva': 'first',\n",
    "    'estrellas': 'mean'\n",
    "}).reset_index()\n",
    "\n",
    "# Renombrar la columna id_hotel2 a id_hotel\n",
    "hoteles_agrupados.rename(columns={'id_hotel2': 'id_hotel'}, inplace=True)\n",
    "\n",
    "# Exportar a un archivo CSV\n",
    "hoteles_agrupados.to_csv(r'datos_a_db\\hoteles_agrupados_db.csv', index=False)"
   ]
  },
  {
   "cell_type": "code",
   "execution_count": 4,
   "metadata": {},
   "outputs": [],
   "source": [
    "# Load the CSV file into a DataFrame\n",
    "df_hoteles = pd.read_csv(r'datos_a_db\\hoteles.csv')\n",
    "\n",
    "# Create the 'competencia' column\n",
    "df_hoteles['competencia'] = df_hoteles['id_hotel'].apply(lambda x: False if x in [f'hotel_{i:02d}' for i in range(1, 21)] else True)\n",
    "\n",
    "# Rename the column 'estrellas' to 'valoracion'\n",
    "df_hoteles.rename(columns={'estrellas': 'valoracion'}, inplace=True)\n",
    "\n",
    "# Add a new column 'id_ciudad' with all values set to 1\n",
    "df_hoteles['id_ciudad'] = 1\n",
    "\n",
    "# Export the DataFrame back to the CSV file\n",
    "df_hoteles.to_csv(r'datos_a_db\\hoteles.csv', index=False)"
   ]
  },
  {
   "cell_type": "code",
   "execution_count": null,
   "metadata": {},
   "outputs": [],
   "source": [
    "## preparar el df de reservas\n",
    "df_reservas = df.drop_duplicates(['id_reserva', 'id_cliente2', 'id_hotel2', 'inicio_estancia', 'final_estancia', 'precio_noche', 'competencia'])[['id_reserva', 'id_cliente2', 'id_hotel2', 'inicio_estancia', 'final_estancia', 'precio_noche', 'competencia']]\n",
    "df_reservas.head()\n",
    "\n",
    "\n",
    "\n",
    "df_reservas.to_csv(r'datos_a_db\\reservas_db.csv', index=False)\n"
   ]
  },
  {
   "cell_type": "code",
   "execution_count": 2,
   "metadata": {},
   "outputs": [
    {
     "name": "stdout",
     "output_type": "stream",
     "text": [
      "                             id_reserva  id_cliente  id_hotel inicio_estancia  \\\n",
      "0  5256cc90-139b-43d2-8ec5-412495d751cf  cliente_01  hotel_21      2025-03-01   \n",
      "1  84fd6209-bd8d-4a92-bfe6-c68ee2c49271  cliente_02  hotel_22      2025-03-01   \n",
      "2  40c4cb55-d1f5-407b-832f-4756b8ff77b4  cliente_03  hotel_02      2025-03-01   \n",
      "3  f2ce8df5-7844-43e1-8c0f-97ce7a208f21  cliente_04  hotel_03      2025-03-01   \n",
      "4  57d4515a-447d-4067-afcb-9bdcf4e4e915  cliente_05  hotel_04      2025-03-01   \n",
      "\n",
      "  final_estancia  precio_noche fecha_reserva  \n",
      "0     2025-03-02        170.00    23/02/2025  \n",
      "1     2025-03-02        172.00    23/02/2025  \n",
      "2     2025-03-02        119.96    23/02/2025  \n",
      "3     2025-03-02        211.53    23/02/2025  \n",
      "4     2025-03-02        378.37    23/02/2025  \n"
     ]
    }
   ],
   "source": [
    "# Load the dataframe from the CSV file\n",
    "df_reservas = pd.read_csv(r'datos_a_db\\reservas_db.csv')\n",
    "\n",
    "# Rename columns\n",
    "df_reservas.rename(columns={'id_cliente2': 'id_cliente', 'id_hotel2': 'id_hotel'}, inplace=True)\n",
    "\n",
    "# Remove the 'competencia' column\n",
    "df_reservas.drop(columns=['competencia'], inplace=True)\n",
    "\n",
    "# Add a new column 'fecha_reserva' with the same date for all rows\n",
    "df_reservas['fecha_reserva'] = '23/02/2025'\n",
    "\n",
    "# Fill missing values in 'inicio_estancia' and 'final_estancia' with the most popular value\n",
    "df_reservas['inicio_estancia'].fillna(df_reservas['inicio_estancia'].mode()[0], inplace=True)\n",
    "df_reservas['final_estancia'].fillna(df_reservas['final_estancia'].mode()[0], inplace=True)\n",
    "\n",
    "# Fill missing values in 'precio_noche' with the average value of the column\n",
    "df_reservas['precio_noche'].fillna(df_reservas['precio_noche'].mean(), inplace=True)\n",
    "\n",
    "# Display the first few rows to verify the changes\n",
    "print(df_reservas.head())"
   ]
  },
  {
   "cell_type": "code",
   "execution_count": 3,
   "metadata": {},
   "outputs": [],
   "source": [
    "df_reservas.to_csv(r'datos_a_db\\reservas_db.csv', index=False)\n"
   ]
  }
 ],
 "metadata": {
  "kernelspec": {
   "display_name": "data_analytics_env",
   "language": "python",
   "name": "python3"
  },
  "language_info": {
   "codemirror_mode": {
    "name": "ipython",
    "version": 3
   },
   "file_extension": ".py",
   "mimetype": "text/x-python",
   "name": "python",
   "nbconvert_exporter": "python",
   "pygments_lexer": "ipython3",
   "version": "3.8.20"
  }
 },
 "nbformat": 4,
 "nbformat_minor": 2
}
